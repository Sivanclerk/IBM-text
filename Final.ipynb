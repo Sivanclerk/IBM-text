{
 "cells": [
  {
   "cell_type": "markdown",
   "id": "98f09e1f",
   "metadata": {},
   "source": [
    "# Final\n"
   ]
  },
  {
   "cell_type": "markdown",
   "id": "31ab98f2",
   "metadata": {},
   "source": [
    "## Introduction\n",
    "\n",
    "Welcome to this notebook. In this notebook, we will explore various concepts related to data science."
   ]
  },
  {
   "cell_type": "markdown",
   "id": "61803249",
   "metadata": {},
   "source": [
    "## Data Science Languages\n",
    "\n",
    "1. Python\n",
    "2. R\n",
    "3. Julia\n",
    "4. Scala\n",
    "5. SQL"
   ]
  },
  {
   "cell_type": "markdown",
   "id": "57ac2a10",
   "metadata": {},
   "source": [
    "## Data Science Libraries\n",
    "\n",
    "1. NumPy\n",
    "2. Pandas\n",
    "3. Matplotlib\n",
    "4. Seaborn\n",
    "5. Scikit-learn\n",
    "6. TensorFlow\n",
    "7. Keras\n",
    "8. PyTorch"
   ]
  },
  {
   "cell_type": "markdown",
   "id": "b91b4c9f",
   "metadata": {},
   "source": [
    "## Data Science Tools\n",
    "\n",
    "| Tool           | Description                                        |\n",
    "|----------------|----------------------------------------------------|\n",
    "| Jupyter Notebook | Interactive coding environment                     |\n",
    "| RStudio         | IDE for R programming                               |\n",
    "| Anaconda        | Distribution of Python and data science libraries   |\n",
    "| Tableau         | Data visualization tool                            |\n",
    "| Apache Spark    | Distributed data processing framework              |\n",
    "| SQL            | Database querying language                         |\n",
    "| Git             | Version control system                             |"
   ]
  },
  {
   "cell_type": "markdown",
   "id": "c221d4ba",
   "metadata": {},
   "source": [
    "## Arithmetic Expression Examples\n",
    "\n",
    "Arithmetic expressions involve mathematical operations such as addition, subtraction, multiplication, and division. Let's explore some examples in the following code cells."
   ]
  },
  {
   "cell_type": "code",
   "execution_count": 4,
   "id": "ae17d670",
   "metadata": {},
   "outputs": [
    {
     "name": "stdout",
     "output_type": "stream",
     "text": [
      "Product: 15\n",
      "Sum: 8\n"
     ]
    }
   ],
   "source": [
    "# Multiply and Add Numbers\n",
    "num1 = 5\n",
    "num2 = 3\n",
    "\n",
    "product = num1 * num2\n",
    "sum = num1 + num2\n",
    "\n",
    "print(\"Product:\", product)\n",
    "print(\"Sum:\", sum)"
   ]
  },
  {
   "cell_type": "code",
   "execution_count": 10,
   "id": "853f109b",
   "metadata": {},
   "outputs": [
    {
     "name": "stdout",
     "output_type": "stream",
     "text": [
      "Hours: 2.0\n"
     ]
    }
   ],
   "source": [
    "# Convert Minutes to Hours\n",
    "def conv (minute):\n",
    "    hours = minutes / 60\n",
    "    print(\"Hours:\", hours)\n",
    "conv(120)"
   ]
  },
  {
   "cell_type": "markdown",
   "id": "9034a13d",
   "metadata": {},
   "source": [
    "## Objectives\n",
    "\n",
    "- Explore data science languages and libraries\n",
    "- Understand arithmetic expressions and calculations\n",
    "- Learn about data science tools and their applications"
   ]
  },
  {
   "cell_type": "markdown",
   "id": "c60c563c",
   "metadata": {},
   "source": [
    "Author: Quan Tan"
   ]
  },
  {
   "cell_type": "code",
   "execution_count": null,
   "id": "e29e2721",
   "metadata": {},
   "outputs": [],
   "source": []
  }
 ],
 "metadata": {
  "kernelspec": {
   "display_name": "Python 3",
   "language": "python",
   "name": "python3"
  },
  "language_info": {
   "codemirror_mode": {
    "name": "ipython",
    "version": 3
   },
   "file_extension": ".py",
   "mimetype": "text/x-python",
   "name": "python",
   "nbconvert_exporter": "python",
   "pygments_lexer": "ipython3",
   "version": "3.8.8"
  }
 },
 "nbformat": 4,
 "nbformat_minor": 5
}
